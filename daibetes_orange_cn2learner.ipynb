{
  "nbformat": 4,
  "nbformat_minor": 0,
  "metadata": {
    "colab": {
      "name": "daibetes_orange_cn2learner.ipynb",
      "provenance": [],
      "collapsed_sections": [],
      "authorship_tag": "ABX9TyNpvmq86VbVugCCDj4bCoSE",
      "include_colab_link": true
    },
    "kernelspec": {
      "name": "python3",
      "display_name": "Python 3"
    },
    "accelerator": "GPU"
  },
  "cells": [
    {
      "cell_type": "markdown",
      "metadata": {
        "id": "view-in-github",
        "colab_type": "text"
      },
      "source": [
        "<a href=\"https://colab.research.google.com/github/Josafa01/machine_learning/blob/master/daibetes_orange_cn2learner.ipynb\" target=\"_parent\"><img src=\"https://colab.research.google.com/assets/colab-badge.svg\" alt=\"Open In Colab\"/></a>"
      ]
    },
    {
      "cell_type": "markdown",
      "metadata": {
        "id": "cu-PDGqqrsLx",
        "colab_type": "text"
      },
      "source": [
        "#Base de dados retidado do kaggle\n",
        "\n",
        "https://www.kaggle.com/uciml/pima-indians-diabetes-database\n",
        "\n",
        "O codigo a seguir foi construito somente para demonstração de conhecimento sem nehum uso profissional.\n",
        "\n",
        "The following code was created only to demonstrate knowledge without professional use.\n",
        "\n",
        "El siguiente código fue creado solo para demostrar conocimiento sin uso profesional.\n",
        "\n"
      ]
    },
    {
      "cell_type": "code",
      "metadata": {
        "id": "EYpEI__573df",
        "colab_type": "code",
        "colab": {
          "base_uri": "https://localhost:8080/",
          "height": 1000
        },
        "outputId": "19be9d8e-de1e-4fcb-aa4e-bbabcceb3b52"
      },
      "source": [
        "!pip install orange3"
      ],
      "execution_count": 4,
      "outputs": [
        {
          "output_type": "stream",
          "text": [
            "Requirement already satisfied: orange3 in /usr/local/lib/python3.6/dist-packages (3.26.0)\n",
            "Requirement already satisfied: pyyaml in /usr/local/lib/python3.6/dist-packages (from orange3) (3.13)\n",
            "Requirement already satisfied: xlrd>=0.9.2 in /usr/local/lib/python3.6/dist-packages (from orange3) (1.1.0)\n",
            "Requirement already satisfied: xlsxwriter in /usr/local/lib/python3.6/dist-packages (from orange3) (1.3.3)\n",
            "Requirement already satisfied: pip>=9.0 in /usr/local/lib/python3.6/dist-packages (from orange3) (19.3.1)\n",
            "Requirement already satisfied: orange-widget-base>=4.6.0 in /usr/local/lib/python3.6/dist-packages (from orange3) (4.7.0)\n",
            "Requirement already satisfied: httpx~=0.12 in /usr/local/lib/python3.6/dist-packages (from orange3) (0.14.1)\n",
            "Requirement already satisfied: joblib>=0.9.4 in /usr/local/lib/python3.6/dist-packages (from orange3) (0.16.0)\n",
            "Requirement already satisfied: docutils in /usr/local/lib/python3.6/dist-packages (from orange3) (0.15.2)\n",
            "Requirement already satisfied: scipy>=0.16.1 in /usr/local/lib/python3.6/dist-packages (from orange3) (1.4.1)\n",
            "Requirement already satisfied: baycomp>=1.0.2 in /usr/local/lib/python3.6/dist-packages (from orange3) (1.0.2)\n",
            "Requirement already satisfied: matplotlib>=2.0.0 in /usr/local/lib/python3.6/dist-packages (from orange3) (3.2.2)\n",
            "Requirement already satisfied: requests in /usr/local/lib/python3.6/dist-packages (from orange3) (2.23.0)\n",
            "Requirement already satisfied: pyqtgraph>=0.10.0 in /usr/local/lib/python3.6/dist-packages (from orange3) (0.11.0)\n",
            "Requirement already satisfied: keyrings.alt in /usr/local/lib/python3.6/dist-packages (from orange3) (3.4.0)\n",
            "Requirement already satisfied: setuptools>=36.3 in /usr/local/lib/python3.6/dist-packages (from orange3) (49.2.0)\n",
            "Requirement already satisfied: networkx in /usr/local/lib/python3.6/dist-packages (from orange3) (2.4)\n",
            "Requirement already satisfied: chardet>=3.0.2 in /usr/local/lib/python3.6/dist-packages (from orange3) (3.0.4)\n",
            "Requirement already satisfied: openpyxl in /usr/local/lib/python3.6/dist-packages (from orange3) (2.5.9)\n",
            "Requirement already satisfied: bottleneck>=1.0.0 in /usr/local/lib/python3.6/dist-packages (from orange3) (1.3.2)\n",
            "Requirement already satisfied: keyring in /usr/local/lib/python3.6/dist-packages (from orange3) (21.3.1)\n",
            "Requirement already satisfied: numpy>=1.16.0 in /usr/local/lib/python3.6/dist-packages (from orange3) (1.18.5)\n",
            "Requirement already satisfied: AnyQt>=0.0.8 in /usr/local/lib/python3.6/dist-packages (from orange3) (0.0.10)\n",
            "Requirement already satisfied: orange-canvas-core<0.2a,>=0.1.15 in /usr/local/lib/python3.6/dist-packages (from orange3) (0.1.15)\n",
            "Requirement already satisfied: scikit-learn!=0.23.0,>=0.22.0 in /usr/local/lib/python3.6/dist-packages (from orange3) (0.22.2.post1)\n",
            "Requirement already satisfied: openTSNE>=0.3.11 in /usr/local/lib/python3.6/dist-packages (from orange3) (0.4.4)\n",
            "Requirement already satisfied: pandas in /usr/local/lib/python3.6/dist-packages (from orange3) (1.0.5)\n",
            "Requirement already satisfied: serverfiles in /usr/local/lib/python3.6/dist-packages (from orange3) (0.3.0)\n",
            "Requirement already satisfied: python-louvain>=0.13 in /usr/local/lib/python3.6/dist-packages (from orange3) (0.14)\n",
            "Requirement already satisfied: httpcore==0.10.* in /usr/local/lib/python3.6/dist-packages (from httpx~=0.12->orange3) (0.10.2)\n",
            "Requirement already satisfied: certifi in /usr/local/lib/python3.6/dist-packages (from httpx~=0.12->orange3) (2020.6.20)\n",
            "Requirement already satisfied: sniffio in /usr/local/lib/python3.6/dist-packages (from httpx~=0.12->orange3) (1.1.0)\n",
            "Requirement already satisfied: idna==2.* in /usr/local/lib/python3.6/dist-packages (from httpx~=0.12->orange3) (2.10)\n",
            "Requirement already satisfied: rfc3986<2,>=1.3 in /usr/local/lib/python3.6/dist-packages (from httpx~=0.12->orange3) (1.4.0)\n",
            "Requirement already satisfied: cycler>=0.10 in /usr/local/lib/python3.6/dist-packages (from matplotlib>=2.0.0->orange3) (0.10.0)\n",
            "Requirement already satisfied: pyparsing!=2.0.4,!=2.1.2,!=2.1.6,>=2.0.1 in /usr/local/lib/python3.6/dist-packages (from matplotlib>=2.0.0->orange3) (2.4.7)\n",
            "Requirement already satisfied: kiwisolver>=1.0.1 in /usr/local/lib/python3.6/dist-packages (from matplotlib>=2.0.0->orange3) (1.2.0)\n",
            "Requirement already satisfied: python-dateutil>=2.1 in /usr/local/lib/python3.6/dist-packages (from matplotlib>=2.0.0->orange3) (2.8.1)\n",
            "Requirement already satisfied: urllib3!=1.25.0,!=1.25.1,<1.26,>=1.21.1 in /usr/local/lib/python3.6/dist-packages (from requests->orange3) (1.24.3)\n",
            "Requirement already satisfied: decorator>=4.3.0 in /usr/local/lib/python3.6/dist-packages (from networkx->orange3) (4.4.2)\n",
            "Requirement already satisfied: et-xmlfile in /usr/local/lib/python3.6/dist-packages (from openpyxl->orange3) (1.0.1)\n",
            "Requirement already satisfied: jdcal in /usr/local/lib/python3.6/dist-packages (from openpyxl->orange3) (1.4.1)\n",
            "Requirement already satisfied: importlib-metadata; python_version < \"3.8\" in /usr/local/lib/python3.6/dist-packages (from keyring->orange3) (1.7.0)\n",
            "Requirement already satisfied: jeepney>=0.4.2; sys_platform == \"linux\" in /usr/local/lib/python3.6/dist-packages (from keyring->orange3) (0.4.3)\n",
            "Requirement already satisfied: SecretStorage>=3; sys_platform == \"linux\" in /usr/local/lib/python3.6/dist-packages (from keyring->orange3) (3.1.2)\n",
            "Requirement already satisfied: commonmark in /usr/local/lib/python3.6/dist-packages (from orange-canvas-core<0.2a,>=0.1.15->orange3) (0.9.1)\n",
            "Requirement already satisfied: cachecontrol[filecache] in /usr/local/lib/python3.6/dist-packages (from orange-canvas-core<0.2a,>=0.1.15->orange3) (0.12.6)\n",
            "Requirement already satisfied: dictdiffer in /usr/local/lib/python3.6/dist-packages (from orange-canvas-core<0.2a,>=0.1.15->orange3) (0.8.1)\n",
            "Requirement already satisfied: pytz>=2017.2 in /usr/local/lib/python3.6/dist-packages (from pandas->orange3) (2018.9)\n",
            "Requirement already satisfied: h11<0.10,>=0.8 in /usr/local/lib/python3.6/dist-packages (from httpcore==0.10.*->httpx~=0.12->orange3) (0.9.0)\n",
            "Requirement already satisfied: contextvars>=2.1; python_version < \"3.7\" in /usr/local/lib/python3.6/dist-packages (from sniffio->httpx~=0.12->orange3) (2.4)\n",
            "Requirement already satisfied: six in /usr/local/lib/python3.6/dist-packages (from cycler>=0.10->matplotlib>=2.0.0->orange3) (1.15.0)\n",
            "Requirement already satisfied: zipp>=0.5 in /usr/local/lib/python3.6/dist-packages (from importlib-metadata; python_version < \"3.8\"->keyring->orange3) (3.1.0)\n",
            "Requirement already satisfied: cryptography in /usr/local/lib/python3.6/dist-packages (from SecretStorage>=3; sys_platform == \"linux\"->keyring->orange3) (3.0)\n",
            "Requirement already satisfied: msgpack>=0.5.2 in /usr/local/lib/python3.6/dist-packages (from cachecontrol[filecache]->orange-canvas-core<0.2a,>=0.1.15->orange3) (1.0.0)\n",
            "Requirement already satisfied: lockfile>=0.9; extra == \"filecache\" in /usr/local/lib/python3.6/dist-packages (from cachecontrol[filecache]->orange-canvas-core<0.2a,>=0.1.15->orange3) (0.12.2)\n",
            "Requirement already satisfied: immutables>=0.9 in /usr/local/lib/python3.6/dist-packages (from contextvars>=2.1; python_version < \"3.7\"->sniffio->httpx~=0.12->orange3) (0.14)\n",
            "Requirement already satisfied: cffi!=1.11.3,>=1.8 in /usr/local/lib/python3.6/dist-packages (from cryptography->SecretStorage>=3; sys_platform == \"linux\"->keyring->orange3) (1.14.1)\n",
            "Requirement already satisfied: pycparser in /usr/local/lib/python3.6/dist-packages (from cffi!=1.11.3,>=1.8->cryptography->SecretStorage>=3; sys_platform == \"linux\"->keyring->orange3) (2.20)\n"
          ],
          "name": "stdout"
        }
      ]
    },
    {
      "cell_type": "code",
      "metadata": {
        "id": "mO3CLhnE-FkA",
        "colab_type": "code",
        "colab": {}
      },
      "source": [
        "import Orange"
      ],
      "execution_count": 5,
      "outputs": []
    },
    {
      "cell_type": "code",
      "metadata": {
        "id": "RXMCUNWV-5Z9",
        "colab_type": "code",
        "colab": {
          "base_uri": "https://localhost:8080/",
          "height": 71
        },
        "outputId": "6e002b25-d3cb-441f-be16-2e897214a056"
      },
      "source": [
        "base = Orange.data.Table('diabetes (copy).csv')"
      ],
      "execution_count": 6,
      "outputs": [
        {
          "output_type": "stream",
          "text": [
            "/usr/local/lib/python3.6/dist-packages/psycopg2/__init__.py:144: UserWarning: The psycopg2 wheel package will be renamed from release 2.8; in order to keep installing from binary please use \"pip install psycopg2-binary\" instead. For details see: <http://initd.org/psycopg/docs/install.html#binary-install-from-pypi>.\n",
            "  \"\"\")\n"
          ],
          "name": "stderr"
        }
      ]
    },
    {
      "cell_type": "code",
      "metadata": {
        "id": "4swfdb3ZAL05",
        "colab_type": "code",
        "colab": {
          "base_uri": "https://localhost:8080/",
          "height": 136
        },
        "outputId": "0145cacd-b528-418a-9d51-45eab973bd99"
      },
      "source": [
        "base"
      ],
      "execution_count": 7,
      "outputs": [
        {
          "output_type": "execute_result",
          "data": {
            "text/plain": [
              "[[6, 148, 72, 35, 0, ... | 1],\n",
              " [1, 85, 66, 29, 0, ... | 0],\n",
              " [8, 183, 64, 0, 0, ... | 1],\n",
              " [1, 89, 66, 23, 94, ... | 0],\n",
              " [0, 137, 40, 35, 168, ... | 1],\n",
              " ...\n",
              "]"
            ]
          },
          "metadata": {
            "tags": []
          },
          "execution_count": 7
        }
      ]
    },
    {
      "cell_type": "code",
      "metadata": {
        "id": "Ar-H_MKIAklp",
        "colab_type": "code",
        "colab": {
          "base_uri": "https://localhost:8080/",
          "height": 34
        },
        "outputId": "9f37eda8-a15d-43c2-ae95-f14109bf1cac"
      },
      "source": [
        "base.domain"
      ],
      "execution_count": 8,
      "outputs": [
        {
          "output_type": "execute_result",
          "data": {
            "text/plain": [
              "[Pregnancies, Glucose, BloodPressure, SkinThickness, Insulin, BMI, DiabetesPedigreeFunction, Age | Outcome]"
            ]
          },
          "metadata": {
            "tags": []
          },
          "execution_count": 8
        }
      ]
    },
    {
      "cell_type": "code",
      "metadata": {
        "id": "9LI3qfOwArLH",
        "colab_type": "code",
        "colab": {}
      },
      "source": [
        "base_dividesed = Orange.evaluation.testing.sample(base, n=0.25)"
      ],
      "execution_count": 9,
      "outputs": []
    },
    {
      "cell_type": "code",
      "metadata": {
        "id": "uHrFtmwlA5cX",
        "colab_type": "code",
        "colab": {
          "base_uri": "https://localhost:8080/",
          "height": 238
        },
        "outputId": "46ea0935-be37-422c-c1d8-76f1025e3d55"
      },
      "source": [
        "base_dividesed"
      ],
      "execution_count": 10,
      "outputs": [
        {
          "output_type": "execute_result",
          "data": {
            "text/plain": [
              "([[2, 114, 68, 22, 0, ... | 0],\n",
              "  [2, 107, 74, 30, 100, ... | 0],\n",
              "  [2, 122, 60, 18, 106, ... | 0],\n",
              "  [2, 99, 70, 16, 44, ... | 0],\n",
              "  [2, 118, 80, 0, 0, ... | 1],\n",
              "  ...\n",
              " ], [[0, 105, 90, 0, 0, ... | 0],\n",
              "  [1, 118, 58, 36, 94, ... | 0],\n",
              "  [7, 94, 64, 25, 79, ... | 0],\n",
              "  [5, 139, 64, 35, 140, ... | 0],\n",
              "  [5, 97, 76, 27, 0, ... | 1],\n",
              "  ...\n",
              " ])"
            ]
          },
          "metadata": {
            "tags": []
          },
          "execution_count": 10
        }
      ]
    },
    {
      "cell_type": "code",
      "metadata": {
        "id": "iGIIWJFJA_ed",
        "colab_type": "code",
        "colab": {}
      },
      "source": [
        "base_train = base_dividesed[1]\n",
        "base_test = base_dividesed[0]"
      ],
      "execution_count": 11,
      "outputs": []
    },
    {
      "cell_type": "code",
      "metadata": {
        "id": "w1DWpUbPBTVS",
        "colab_type": "code",
        "colab": {
          "base_uri": "https://localhost:8080/",
          "height": 136
        },
        "outputId": "8c308f03-cf23-4c8b-d8b6-4d88fb4a76d9"
      },
      "source": [
        "base_train"
      ],
      "execution_count": 12,
      "outputs": [
        {
          "output_type": "execute_result",
          "data": {
            "text/plain": [
              "[[0, 105, 90, 0, 0, ... | 0],\n",
              " [1, 118, 58, 36, 94, ... | 0],\n",
              " [7, 94, 64, 25, 79, ... | 0],\n",
              " [5, 139, 64, 35, 140, ... | 0],\n",
              " [5, 97, 76, 27, 0, ... | 1],\n",
              " ...\n",
              "]"
            ]
          },
          "metadata": {
            "tags": []
          },
          "execution_count": 12
        }
      ]
    },
    {
      "cell_type": "code",
      "metadata": {
        "id": "1QaijcHTBWfq",
        "colab_type": "code",
        "colab": {
          "base_uri": "https://localhost:8080/",
          "height": 136
        },
        "outputId": "444ff4b5-82d3-4ca1-ac64-f4a4af248854"
      },
      "source": [
        "base_test"
      ],
      "execution_count": 13,
      "outputs": [
        {
          "output_type": "execute_result",
          "data": {
            "text/plain": [
              "[[2, 114, 68, 22, 0, ... | 0],\n",
              " [2, 107, 74, 30, 100, ... | 0],\n",
              " [2, 122, 60, 18, 106, ... | 0],\n",
              " [2, 99, 70, 16, 44, ... | 0],\n",
              " [2, 118, 80, 0, 0, ... | 1],\n",
              " ...\n",
              "]"
            ]
          },
          "metadata": {
            "tags": []
          },
          "execution_count": 13
        }
      ]
    },
    {
      "cell_type": "code",
      "metadata": {
        "id": "WQWkzw0GBaVT",
        "colab_type": "code",
        "colab": {
          "base_uri": "https://localhost:8080/",
          "height": 34
        },
        "outputId": "bf8e867a-b30e-4628-f58b-8bb89924b120"
      },
      "source": [
        "len(base_train)"
      ],
      "execution_count": 14,
      "outputs": [
        {
          "output_type": "execute_result",
          "data": {
            "text/plain": [
              "576"
            ]
          },
          "metadata": {
            "tags": []
          },
          "execution_count": 14
        }
      ]
    },
    {
      "cell_type": "code",
      "metadata": {
        "id": "BBAl57bSBdpd",
        "colab_type": "code",
        "colab": {
          "base_uri": "https://localhost:8080/",
          "height": 34
        },
        "outputId": "73e57f73-ec25-4ca3-8684-fddb73a80b9b"
      },
      "source": [
        "len(base_test)"
      ],
      "execution_count": 15,
      "outputs": [
        {
          "output_type": "execute_result",
          "data": {
            "text/plain": [
              "192"
            ]
          },
          "metadata": {
            "tags": []
          },
          "execution_count": 15
        }
      ]
    },
    {
      "cell_type": "code",
      "metadata": {
        "id": "ZQo-CQcXBjYa",
        "colab_type": "code",
        "colab": {}
      },
      "source": [
        "#https://docs.biolab.si/2/reference/rst/Orange.classification.rules.html\n",
        "cn2_learner = Orange.classification.rules.CN2Learner()\n",
        "classifier = cn2_learner(base_train)"
      ],
      "execution_count": 18,
      "outputs": []
    },
    {
      "cell_type": "code",
      "metadata": {
        "id": "VxguLEkSCBYu",
        "colab_type": "code",
        "colab": {
          "base_uri": "https://localhost:8080/",
          "height": 1000
        },
        "outputId": "9168dfde-6a7e-4b68-863f-52849aa739ee"
      },
      "source": [
        "for rules in classifier.rule_list:\n",
        "    print(rules)"
      ],
      "execution_count": 19,
      "outputs": [
        {
          "output_type": "stream",
          "text": [
            "IF BMI<=27.4 AND Insulin>=180.0 THEN Outcome=0 \n",
            "IF BMI<=27.4 AND DiabetesPedigreeFunction>=0.733 THEN Outcome=0 \n",
            "IF Glucose>=155.0 AND SkinThickness>=45.0 THEN Outcome=1 \n",
            "IF Insulin<=122.0 AND BMI>=47.9 THEN Outcome=1 \n",
            "IF Glucose>=167.0 AND DiabetesPedigreeFunction>=1.461 THEN Outcome=0 \n",
            "IF Glucose>=167.0 AND SkinThickness>=33.0 THEN Outcome=1 \n",
            "IF SkinThickness>=50.0 THEN Outcome=0 \n",
            "IF SkinThickness>=45.0 AND SkinThickness>=49.0 THEN Outcome=1 \n",
            "IF Age<=29.0 AND BMI<=25.6 AND BloodPressure>=64.0 THEN Outcome=0 \n",
            "IF BMI<=27.4 AND Insulin>=144.0 THEN Outcome=1 \n",
            "IF BMI<=27.4 AND Insulin>=120.0 THEN Outcome=0 \n",
            "IF BMI<=27.4 AND Insulin>=115.0 THEN Outcome=1 \n",
            "IF BMI<=27.4 AND Insulin>=100.0 THEN Outcome=0 \n",
            "IF BMI<=27.4 AND Insulin>=96.0 THEN Outcome=1 \n",
            "IF BMI<=27.4 AND Insulin>=49.0 THEN Outcome=0 \n",
            "IF BMI<=27.4 AND BloodPressure>=90.0 THEN Outcome=1 \n",
            "IF BMI<=27.4 AND SkinThickness>=21.0 THEN Outcome=0 \n",
            "IF BMI<=27.4 AND Insulin>=48.0 THEN Outcome=1 \n",
            "IF BMI<=27.4 AND Insulin>=15.0 THEN Outcome=0 \n",
            "IF BMI<=23.3 AND Glucose>=183.0 THEN Outcome=1 \n",
            "IF BMI<=27.4 AND DiabetesPedigreeFunction>=0.732 THEN Outcome=1 \n",
            "IF BMI<=27.4 AND DiabetesPedigreeFunction>=0.416 THEN Outcome=0 \n",
            "IF Age<=29.0 AND BloodPressure>=110.0 THEN Outcome=1 \n",
            "IF BMI<=29.7 AND SkinThickness>=38.0 THEN Outcome=1 \n",
            "IF BMI<=29.7 AND Insulin>=600.0 THEN Outcome=1 \n",
            "IF BloodPressure<=66.0 AND Insulin>=495.0 THEN Outcome=1 \n",
            "IF BloodPressure>=66.0 AND BloodPressure>=114.0 THEN Outcome=1 \n",
            "IF BloodPressure>=66.0 AND Insulin>=485.0 THEN Outcome=0 \n",
            "IF DiabetesPedigreeFunction<=0.528 AND Pregnancies>=14.0 AND BloodPressure>=78.0 THEN Outcome=1 \n",
            "IF BloodPressure>=66.0 AND Insulin>=480.0 THEN Outcome=1 \n",
            "IF Glucose<=130.0 AND BMI<=27.4 AND Pregnancies>=1.0 THEN Outcome=0 \n",
            "IF Glucose<=130.0 AND Insulin>=270.0 THEN Outcome=0 \n",
            "IF Glucose>=130.0 AND BloodPressure<=58.0 AND BMI>=30.0 THEN Outcome=1 \n",
            "IF BloodPressure<=62.0 AND Glucose>=162.0 THEN Outcome=1 \n",
            "IF BMI<=30.3 AND BMI>=30.3 THEN Outcome=1 \n",
            "IF Insulin<=16.0 AND Insulin>=16.0 THEN Outcome=0 \n",
            "IF Insulin<=18.0 AND Insulin>=18.0 THEN Outcome=0 \n",
            "IF Insulin<=22.0 AND Insulin>=22.0 THEN Outcome=0 \n",
            "IF Insulin<=40.0 AND Insulin>=40.0 THEN Outcome=0 \n",
            "IF Insulin<=42.0 AND SkinThickness>=46.0 THEN Outcome=1 \n",
            "IF Age<=29.0 AND BloodPressure>=88.0 THEN Outcome=0 \n",
            "IF Insulin<=42.0 AND Insulin>=42.0 THEN Outcome=0 \n",
            "IF Insulin<=44.0 AND Insulin>=44.0 THEN Outcome=0 \n",
            "IF Insulin<=45.0 AND Insulin>=45.0 THEN Outcome=0 \n",
            "IF Insulin<=48.0 AND Insulin>=48.0 THEN Outcome=0 \n",
            "IF Insulin<=49.0 AND Insulin>=49.0 THEN Outcome=0 \n",
            "IF Insulin>=387.0 THEN Outcome=0 \n",
            "IF DiabetesPedigreeFunction<=0.528 AND Insulin>=325.0 THEN Outcome=1 \n",
            "IF Insulin>=293.0 THEN Outcome=0 \n",
            "IF BMI<=34.2 AND Insulin>=258.0 THEN Outcome=1 \n",
            "IF SkinThickness<=15.0 AND Insulin>=176.0 THEN Outcome=0 \n",
            "IF SkinThickness<=15.0 AND Insulin>=168.0 THEN Outcome=1 \n",
            "IF SkinThickness<=15.0 AND Insulin>=76.0 THEN Outcome=0 \n",
            "IF Pregnancies<=7.0 AND Insulin>=255.0 THEN Outcome=0 \n",
            "IF Insulin>=240.0 THEN Outcome=1 \n",
            "IF SkinThickness<=16.0 AND SkinThickness>=16.0 THEN Outcome=0 \n",
            "IF SkinThickness<=17.0 AND SkinThickness>=17.0 THEN Outcome=0 \n",
            "IF SkinThickness<=22.0 AND Insulin>=180.0 THEN Outcome=1 \n",
            "IF SkinThickness<=19.0 AND Insulin>=105.0 THEN Outcome=1 \n",
            "IF Insulin<=50.0 AND Insulin>=50.0 THEN Outcome=0 \n",
            "IF Insulin<=53.0 AND Insulin>=53.0 THEN Outcome=0 \n",
            "IF SkinThickness<=18.0 AND SkinThickness>=18.0 THEN Outcome=0 \n",
            "IF SkinThickness<=19.0 AND SkinThickness>=19.0 THEN Outcome=0 \n",
            "IF Insulin<=54.0 AND Insulin>=54.0 THEN Outcome=0 \n",
            "IF Insulin<=55.0 AND Insulin>=55.0 THEN Outcome=0 \n",
            "IF Insulin<=56.0 AND Insulin>=56.0 THEN Outcome=0 \n",
            "IF Insulin>=205.0 AND BMI>=37.1 THEN Outcome=1 \n",
            "IF Age<=29.0 AND Insulin>=200.0 THEN Outcome=0 \n",
            "IF Glucose<=124.0 AND SkinThickness>=46.0 THEN Outcome=0 \n",
            "IF SkinThickness>=46.0 THEN Outcome=1 \n",
            "IF Age<=29.0 AND SkinThickness>=44.0 THEN Outcome=1 \n",
            "IF SkinThickness>=43.0 THEN Outcome=0 \n",
            "IF Glucose>=155.0 AND Glucose>=193.0 THEN Outcome=1 \n",
            "IF Glucose<=107.0 AND SkinThickness>=42.0 THEN Outcome=1 \n",
            "IF Glucose<=107.0 AND Insulin>=190.0 THEN Outcome=0 \n",
            "IF Glucose<=107.0 AND Insulin>=180.0 THEN Outcome=1 \n",
            "IF BMI<=28.9 AND Insulin>=140.0 THEN Outcome=0 \n",
            "IF BMI<=30.0 AND BloodPressure>=88.0 THEN Outcome=0 \n",
            "IF BMI<=23.8 AND Glucose>=134.0 THEN Outcome=1 \n",
            "IF BMI<=24.8 AND Glucose>=156.0 THEN Outcome=1 \n",
            "IF BMI<=25.6 AND Glucose>=139.0 THEN Outcome=1 \n",
            "IF BMI<=27.4 AND Pregnancies>=1.0 THEN Outcome=0 \n",
            "IF BMI<=27.4 AND BloodPressure>=70.0 THEN Outcome=1 \n",
            "IF Glucose<=130.0 AND SkinThickness>=42.0 THEN Outcome=0 \n",
            "IF Age<=30.0 AND BloodPressure>=86.0 THEN Outcome=1 \n",
            "IF BMI<=27.5 AND Pregnancies>=2.0 THEN Outcome=1 \n",
            "IF BMI<=28.3 AND Insulin>=130.0 THEN Outcome=1 \n",
            "IF BMI<=28.9 AND SkinThickness>=25.0 THEN Outcome=0 \n",
            "IF BMI<=27.6 AND DiabetesPedigreeFunction>=0.368 THEN Outcome=1 \n",
            "IF BMI<=27.9 AND Pregnancies>=2.0 THEN Outcome=0 \n",
            "IF BMI<=27.9 AND BloodPressure>=84.0 THEN Outcome=1 \n",
            "IF BMI<=28.4 AND Glucose>=130.0 THEN Outcome=1 \n",
            "IF BMI<=28.9 AND SkinThickness>=20.0 THEN Outcome=0 \n",
            "IF BMI<=28.9 AND BMI>=28.9 THEN Outcome=1 \n",
            "IF BMI<=29.0 AND Glucose>=90.0 THEN Outcome=0 \n",
            "IF BMI>=46.8 THEN Outcome=1 \n",
            "IF BMI>=46.1 THEN Outcome=0 \n",
            "IF BMI>=45.6 THEN Outcome=1 \n",
            "IF BMI>=44.6 THEN Outcome=0 \n",
            "IF BMI>=43.6 THEN Outcome=1 \n",
            "IF SkinThickness>=41.0 AND Pregnancies>=5.0 THEN Outcome=1 \n",
            "IF SkinThickness>=37.0 AND Insulin>=150.0 THEN Outcome=1 \n",
            "IF SkinThickness>=37.0 AND Pregnancies>=1.0 THEN Outcome=0 \n",
            "IF Age<=30.0 AND BloodPressure>=85.0 THEN Outcome=1 \n",
            "IF Age<=30.0 AND BMI>=38.2 THEN Outcome=0 \n",
            "IF Age<=30.0 AND BMI>=37.9 THEN Outcome=1 \n",
            "IF Age<=29.0 AND Insulin>=190.0 THEN Outcome=1 \n",
            "IF Glucose<=130.0 AND SkinThickness>=39.0 THEN Outcome=0 \n",
            "IF SkinThickness>=40.0 THEN Outcome=1 \n",
            "IF Age<=29.0 AND Glucose>=182.0 THEN Outcome=1 \n",
            "IF Age<=30.0 AND Glucose>=141.0 THEN Outcome=0 \n",
            "IF BMI>=40.9 AND Pregnancies>=5.0 THEN Outcome=1 \n",
            "IF SkinThickness>=36.0 THEN Outcome=0 \n",
            "IF BMI>=40.2 THEN Outcome=0 \n",
            "IF Age<=30.0 AND SkinThickness>=35.0 THEN Outcome=1 \n",
            "IF Age<=30.0 AND BMI>=36.8 THEN Outcome=0 \n",
            "IF Age<=30.0 AND Insulin>=205.0 THEN Outcome=1 \n",
            "IF Insulin>=188.0 THEN Outcome=0 \n",
            "IF Age<=30.0 AND BMI>=36.6 THEN Outcome=1 \n",
            "IF Glucose>=130.0 AND Glucose>=180.0 THEN Outcome=1 \n",
            "IF Glucose>=130.0 AND Glucose>=179.0 THEN Outcome=0 \n",
            "IF Glucose>=130.0 AND Glucose>=168.0 THEN Outcome=1 \n",
            "IF Glucose>=130.0 AND BloodPressure>=86.0 THEN Outcome=1 \n",
            "IF DiabetesPedigreeFunction<=0.52 AND BloodPressure>=84.0 THEN Outcome=0 \n",
            "IF Age<=30.0 AND Glucose>=134.0 THEN Outcome=1 \n",
            "IF Age<=30.0 AND Pregnancies>=5.0 THEN Outcome=0 \n",
            "IF Age<=30.0 AND Glucose>=124.0 THEN Outcome=0 \n",
            "IF Age<=30.0 AND BloodPressure>=82.0 THEN Outcome=1 \n",
            "IF Glucose<=97.0 AND Glucose>=97.0 THEN Outcome=1 \n",
            "IF Age<=30.0 AND Age>=30.0 THEN Outcome=1 \n",
            "IF Age<=31.0 AND Glucose>=158.0 THEN Outcome=1 \n",
            "IF Glucose<=100.0 AND BloodPressure>=85.0 THEN Outcome=1 \n",
            "IF Age<=32.0 AND Pregnancies>=7.0 THEN Outcome=1 \n",
            "IF Age<=32.0 AND Insulin>=106.0 THEN Outcome=0 \n",
            "IF Glucose<=102.0 AND Pregnancies>=7.0 THEN Outcome=0 \n",
            "IF Insulin>=144.0 AND Pregnancies>=9.0 THEN Outcome=1 \n",
            "IF Insulin>=168.0 THEN Outcome=0 \n",
            "IF Insulin>=165.0 THEN Outcome=1 \n",
            "IF Age<=32.0 AND DiabetesPedigreeFunction>=1.224 THEN Outcome=1 \n",
            "IF Insulin>=140.0 THEN Outcome=0 \n",
            "IF Insulin>=127.0 THEN Outcome=1 \n",
            "IF Age<=32.0 AND BloodPressure>=78.0 THEN Outcome=0 \n",
            "IF Age<=26.0 AND DiabetesPedigreeFunction>=0.289 THEN Outcome=0 \n",
            "IF Insulin>=119.0 AND BloodPressure>=78.0 THEN Outcome=1 \n",
            "IF Insulin>=119.0 THEN Outcome=0 \n",
            "IF DiabetesPedigreeFunction>=0.955 THEN Outcome=1 \n",
            "IF SkinThickness>=32.0 AND Pregnancies>=3.0 THEN Outcome=1 \n",
            "IF Insulin>=115.0 THEN Outcome=1 \n",
            "IF Insulin>=100.0 THEN Outcome=0 \n",
            "IF Insulin>=90.0 THEN Outcome=1 \n",
            "IF Insulin>=81.0 THEN Outcome=0 \n",
            "IF DiabetesPedigreeFunction>=0.709 THEN Outcome=0 \n",
            "IF SkinThickness>=15.0 AND BloodPressure>=75.0 THEN Outcome=0 \n",
            "IF SkinThickness>=29.0 THEN Outcome=1 \n",
            "IF SkinThickness>=24.0 THEN Outcome=0 \n",
            "IF DiabetesPedigreeFunction>=0.52 THEN Outcome=1 \n",
            "IF DiabetesPedigreeFunction>=0.471 THEN Outcome=0 \n",
            "IF Age>=52.0 THEN Outcome=0 \n",
            "IF Pregnancies>=13.0 THEN Outcome=1 \n",
            "IF Pregnancies>=11.0 THEN Outcome=0 \n",
            "IF DiabetesPedigreeFunction>=0.383 THEN Outcome=1 \n",
            "IF DiabetesPedigreeFunction>=0.38 THEN Outcome=0 \n",
            "IF DiabetesPedigreeFunction>=0.343 THEN Outcome=1 \n",
            "IF Glucose>=133.0 THEN Outcome=1 \n",
            "IF BMI>=39.5 THEN Outcome=1 \n",
            "IF BMI>=38.5 THEN Outcome=0 \n",
            "IF BMI>=37.8 THEN Outcome=1 \n",
            "IF BloodPressure>=82.0 THEN Outcome=1 \n",
            "IF DiabetesPedigreeFunction>=0.272 THEN Outcome=1 \n",
            "IF Age>=39.0 THEN Outcome=0 \n",
            "IF Pregnancies>=5.0 THEN Outcome=1 \n",
            "IF Pregnancies<=2.0 THEN Outcome=0 \n",
            "IF TRUE THEN Outcome=0 \n"
          ],
          "name": "stdout"
        }
      ]
    },
    {
      "cell_type": "code",
      "metadata": {
        "id": "ty2juPoICJ4E",
        "colab_type": "code",
        "colab": {
          "base_uri": "https://localhost:8080/",
          "height": 34
        },
        "outputId": "aef10322-93c3-44a5-8d46-98e301e5ea90"
      },
      "source": [
        "result = Orange.evaluation.testing.TestOnTestData(base_train, base_test, [lambda testdata: classifier])\n",
        "print(Orange.evaluation.CA(result))"
      ],
      "execution_count": 20,
      "outputs": [
        {
          "output_type": "stream",
          "text": [
            "[0.72395833]\n"
          ],
          "name": "stdout"
        }
      ]
    }
  ]
}